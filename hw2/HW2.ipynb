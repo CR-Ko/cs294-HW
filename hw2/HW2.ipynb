{
 "cells": [
  {
   "cell_type": "markdown",
   "metadata": {
    "deletable": true,
    "editable": true,
    "nbgrader": {
     "grade": false,
     "grade_id": "intro_1",
     "locked": false,
     "solution": false
    }
   },
   "source": [
    "# Assignment 2: Markov Decision Processes\n",
    "\n",
    "\n",
    "## Homework Instructions\n",
    "All your answers should be written in this notebook.  You shouldn't need to write or modify any other files.\n",
    "Look for four instances of \"YOUR CODE HERE\"--those are the only parts of the code you need to write. To grade your homework, we will check whether the printouts immediately following your code match up with the results we got. The portions used for grading are highlighted in yellow. (However, note that the yellow highlighting does not show up when github renders this file.)\n",
    "\n",
    "To submit your homework, send an email to <berkeleydeeprlcourse@gmail.com> with the subject line \"Deep RL Assignment 2\" and two attachments:\n",
    "1. This `ipynb` file\n",
    "2. A pdf version of this file (To make the pdf, do `File - Print Preview`)\n",
    "\n",
    "The homework is due Febrary 22nd, 11:59 pm.\n",
    "\n",
    "--------------------------"
   ]
  },
  {
   "cell_type": "markdown",
   "metadata": {
    "deletable": true,
    "editable": true,
    "nbgrader": {
     "grade": false,
     "grade_id": "intro_2",
     "locked": false,
     "solution": false
    }
   },
   "source": [
    "## Introduction\n",
    "\n",
    "This assignment will review the two classic methods for solving Markov Decision Processes (MDPs) with finite state and action spaces.\n",
    "We will implement value iteration (VI) and policy iteration (PI) for a finite MDP, both of which find the optimal policy in a finite number of iterations.\n",
    "\n",
    "The experiments here will use the Frozen Lake environment, a simple gridworld MDP that is taken from `gym` and slightly modified for this assignment. In this MDP, the agent must navigate from the start state to the goal state on a 4x4 grid, with stochastic transitions."
   ]
  },
  {
   "cell_type": "code",
   "execution_count": 2,
   "metadata": {
    "collapsed": false,
    "deletable": true,
    "editable": true
   },
   "outputs": [
    {
     "ename": "ImportError",
     "evalue": "No module named gym",
     "output_type": "error",
     "traceback": [
      "\u001b[1;31m---------------------------------------------------------------------------\u001b[0m",
      "\u001b[1;31mImportError\u001b[0m                               Traceback (most recent call last)",
      "\u001b[1;32m<ipython-input-2-1301f772742e>\u001b[0m in \u001b[0;36m<module>\u001b[1;34m()\u001b[0m\n\u001b[1;32m----> 1\u001b[1;33m \u001b[1;32mfrom\u001b[0m \u001b[0mfrozen_lake\u001b[0m \u001b[1;32mimport\u001b[0m \u001b[0mFrozenLakeEnv\u001b[0m\u001b[1;33m\u001b[0m\u001b[0m\n\u001b[0m\u001b[0;32m      2\u001b[0m \u001b[0menv\u001b[0m \u001b[1;33m=\u001b[0m \u001b[0mFrozenLakeEnv\u001b[0m\u001b[1;33m(\u001b[0m\u001b[1;33m)\u001b[0m\u001b[1;33m\u001b[0m\u001b[0m\n\u001b[0;32m      3\u001b[0m \u001b[1;32mprint\u001b[0m\u001b[1;33m(\u001b[0m\u001b[0menv\u001b[0m\u001b[1;33m.\u001b[0m\u001b[0m__doc__\u001b[0m\u001b[1;33m)\u001b[0m\u001b[1;33m\u001b[0m\u001b[0m\n",
      "\u001b[1;32m/home/koo/hw/frozen_lake.py\u001b[0m in \u001b[0;36m<module>\u001b[1;34m()\u001b[0m\n\u001b[0;32m      3\u001b[0m \u001b[1;32mfrom\u001b[0m \u001b[0msix\u001b[0m \u001b[1;32mimport\u001b[0m \u001b[0mStringIO\u001b[0m\u001b[1;33m,\u001b[0m \u001b[0mb\u001b[0m\u001b[1;33m\u001b[0m\u001b[0m\n\u001b[0;32m      4\u001b[0m \u001b[1;33m\u001b[0m\u001b[0m\n\u001b[1;32m----> 5\u001b[1;33m \u001b[1;32mfrom\u001b[0m \u001b[0mgym\u001b[0m \u001b[1;32mimport\u001b[0m \u001b[0mutils\u001b[0m\u001b[1;33m\u001b[0m\u001b[0m\n\u001b[0m\u001b[0;32m      6\u001b[0m \u001b[1;32mimport\u001b[0m \u001b[0mdiscrete_env\u001b[0m\u001b[1;33m\u001b[0m\u001b[0m\n\u001b[0;32m      7\u001b[0m \u001b[1;33m\u001b[0m\u001b[0m\n",
      "\u001b[1;31mImportError\u001b[0m: No module named gym"
     ]
    }
   ],
   "source": [
    "from frozen_lake import FrozenLakeEnv\n",
    "env = FrozenLakeEnv()\n",
    "print(env.__doc__)"
   ]
  },
  {
   "cell_type": "markdown",
   "metadata": {
    "deletable": true,
    "editable": true
   },
   "source": [
    "Let's look at what a random episode looks like."
   ]
  },
  {
   "cell_type": "code",
   "execution_count": 3,
   "metadata": {
    "collapsed": false,
    "deletable": true,
    "editable": true,
    "scrolled": true
   },
   "outputs": [
    {
     "name": "stdout",
     "output_type": "stream",
     "text": [
      "\n",
      "\u001b[41mS\u001b[0mFFF\n",
      "FHFH\n",
      "FFFH\n",
      "HFFG\n",
      "  (Down)\n",
      "S\u001b[41mF\u001b[0mFF\n",
      "FHFH\n",
      "FFFH\n",
      "HFFG\n",
      "  (Down)\n",
      "SFFF\n",
      "F\u001b[41mH\u001b[0mFH\n",
      "FFFH\n",
      "HFFG\n"
     ]
    }
   ],
   "source": [
    "# Some basic imports and setup\n",
    "import numpy as np, numpy.random as nr, gym\n",
    "np.set_printoptions(precision=3)\n",
    "def begin_grading(): print(\"\\x1b[43m\")\n",
    "def end_grading(): print(\"\\x1b[0m\")\n",
    "\n",
    "# Seed RNGs so you get the same printouts as me\n",
    "env.seed(0); from gym.spaces import prng; prng.seed(10)\n",
    "# Generate the episode\n",
    "env.reset()\n",
    "for t in range(100):\n",
    "    env.render()\n",
    "    a = env.action_space.sample()\n",
    "    ob, rew, done, _ = env.step(a)\n",
    "    if done:\n",
    "        break\n",
    "assert done\n",
    "env.render();"
   ]
  },
  {
   "cell_type": "markdown",
   "metadata": {
    "deletable": true,
    "editable": true
   },
   "source": [
    "In the episode above, the agent falls into a hole after two timesteps. Also note the stochasticity--on the first step, the DOWN action is selected, but the agent moves to the right.\n",
    "\n",
    "We extract the relevant information from the gym Env into the MDP class below.\n",
    "The `env` object won't be used any further, we'll just use the `mdp` object."
   ]
  },
  {
   "cell_type": "code",
   "execution_count": 141,
   "metadata": {
    "collapsed": false,
    "deletable": true,
    "editable": true,
    "scrolled": true
   },
   "outputs": [
    {
     "name": "stdout",
     "output_type": "stream",
     "text": [
      "mdp.P is a two-level dict where the first key is the state and the second key is the action.\n",
      "The 2D grid cells are associated with indices [0, 1, 2, ..., 15] from left to right and top to down, as in\n",
      "[[ 0  1  2  3]\n",
      " [ 4  5  6  7]\n",
      " [ 8  9 10 11]\n",
      " [12 13 14 15]]\n",
      "mdp.P[state][action] is a list of tuples (probability, nextstate, reward).\n",
      "\n",
      "('For example, state 0 is the initial state, and the transition information for s=0, a=0 is \\nP[0][0] =', [(0.1, 0, 0.0), (0.8, 0, 0.0), (0.1, 4, 0.0)], '\\n')\n",
      "As another example, state 5 corresponds to a hole in the ice, which transitions to itself with probability 1 and reward 0.\n",
      "('mdp.P[14] =', {0: [(0.1, 10, 0.0), (0.8, 13, 0.0), (0.1, 14, 0.0)], 1: [(0.1, 13, 0.0), (0.8, 14, 0.0), (0.1, 15, 1.0)], 2: [(0.1, 14, 0.0), (0.8, 15, 1.0), (0.1, 10, 0.0)], 3: [(0.1, 15, 1.0), (0.8, 10, 0.0), (0.1, 13, 0.0)]}, '\\n')\n"
     ]
    }
   ],
   "source": [
    "class MDP(object):\n",
    "    def __init__(self, P, nS, nA, desc=None):\n",
    "        self.P = P # state transition and reward probabilities, explained below\n",
    "        self.nS = nS # number of states\n",
    "        self.nA = nA # number of actions\n",
    "        self.desc = desc # 2D array specifying what each grid cell means (used for plotting)\n",
    "mdp = MDP( {s : {a : [tup[:3] for tup in tups] for (a, tups) in a2d.items()} for (s, a2d) in env.P.items()}, env.nS, env.nA, env.desc)\n",
    "\n",
    "\n",
    "print(\"mdp.P is a two-level dict where the first key is the state and the second key is the action.\")\n",
    "print(\"The 2D grid cells are associated with indices [0, 1, 2, ..., 15] from left to right and top to down, as in\")\n",
    "print(np.arange(16).reshape(4,4))\n",
    "print(\"mdp.P[state][action] is a list of tuples (probability, nextstate, reward).\\n\")\n",
    "print(\"For example, state 0 is the initial state, and the transition information for s=0, a=0 is \\nP[0][0] =\", mdp.P[0][0], \"\\n\")\n",
    "print(\"As another example, state 5 corresponds to a hole in the ice, which transitions to itself with probability 1 and reward 0.\")\n",
    "print(\"mdp.P[14] =\", mdp.P[14], '\\n')"
   ]
  },
  {
   "cell_type": "markdown",
   "metadata": {
    "deletable": true,
    "editable": true,
    "nbgrader": {
     "grade": false,
     "grade_id": "4",
     "locked": false,
     "solution": false
    }
   },
   "source": [
    "## Part 1: Value Iteration"
   ]
  },
  {
   "cell_type": "markdown",
   "metadata": {
    "deletable": true,
    "editable": true,
    "nbgrader": {
     "grade": false,
     "locked": false,
     "solution": false
    }
   },
   "source": [
    "### Problem 1: implement value iteration\n",
    "In this problem, you'll implement value iteration, which has the following pseudocode:\n",
    "\n",
    "---\n",
    "Initialize $V^{(0)}(s)=0$, for all $s$\n",
    "\n",
    "For $i=0, 1, 2, \\dots$\n",
    "- $V^{(i+1)}(s) = \\max_a \\sum_{s'} P(s,a,s') [ R(s,a,s') + \\gamma V^{(i)}(s')]$, for all $s$\n",
    "\n",
    "---\n",
    "\n",
    "We additionally define the sequence of greedy policies $\\pi^{(0)}, \\pi^{(1)}, \\dots, \\pi^{(n-1)}$, where\n",
    "$$\\pi^{(i)}(s) = \\arg \\max_a \\sum_{s'} P(s,a,s') [ R(s,a,s') + \\gamma V^{(i)}(s')]$$\n",
    "\n",
    "Your code will return two lists: $[V^{(0)}, V^{(1)}, \\dots, V^{(n)}]$ and $[\\pi^{(0)}, \\pi^{(1)}, \\dots, \\pi^{(n-1)}]$\n",
    "\n",
    "To ensure that you get the same policies as the reference solution, choose the lower-index action to break ties in $\\arg \\max_a$. This is done automatically by np.argmax. This will only affect the \"# chg actions\" printout below--it won't affect the values computed.\n",
    "\n",
    "<div class=\"alert alert-warning\">\n",
    "Warning: make a copy of your value function each iteration and use that copy for the update--don't update your value function in place. \n",
    "Updating in-place is also a valid algorithm, sometimes called Gauss-Seidel value iteration or asynchronous value iteration, but it will cause you to get different results than me.\n",
    "</div>"
   ]
  },
  {
   "cell_type": "code",
   "execution_count": 140,
   "metadata": {
    "collapsed": false,
    "deletable": true,
    "editable": true,
    "nbgrader": {
     "grade": false,
     "grade_id": "vstar_backup",
     "locked": false,
     "solution": true
    },
    "scrolled": false
   },
   "outputs": [
    {
     "name": "stdout",
     "output_type": "stream",
     "text": [
      "\u001b[43m\n",
      "Iteration | max|V-Vprev| | # chg actions | V[0]\n",
      "----------+--------------+---------------+---------\n",
      "========================\n",
      "('iteration', 0)\n",
      "print oldpi\n",
      "None\n",
      "-------------------\n",
      "print Vprev\n",
      "[ 0.  0.  0.  0.  0.  0.  0.  0.  0.  0.  0.  0.  0.  0.  0.  0.]\n",
      "========================\n",
      "('iteration', 1)\n",
      "print oldpi\n",
      "[0, 0, 0, 0, 0, 0, 0, 0, 0, 0, 0, 0, 0, 0, 2, 0]\n",
      "-------------------\n",
      "print Vprev\n",
      "[0.0, 0.0, 0.0, 0.0, 0.0, 0.0, 0.0, 0.0, 0.0, 0.0, 0.0, 0.0, 0.0, 0.0, 0.80000000000000004, 0.0]\n",
      "========================\n",
      "('iteration', 2)\n",
      "print oldpi\n",
      "[0, 0, 0, 0, 0, 0, 0, 0, 0, 0, 1, 0, 0, 2, 2, 0]\n",
      "-------------------\n",
      "print Vprev\n",
      "[0.0, 0.0, 0.0, 0.0, 0.0, 0.0, 0.0, 0.0, 0.0, 0.0, 0.6080000000000001, 0.0, 0.0, 0.6080000000000001, 0.87600000000000011, 0.0]\n",
      "========================\n",
      "('iteration', 3)\n",
      "print oldpi\n",
      "[0, 0, 0, 0, 0, 0, 1, 0, 0, 1, 1, 0, 0, 2, 2, 0]\n",
      "-------------------\n",
      "print Vprev\n",
      "[0.0, 0.0, 0.0, 0.0, 0.0, 0.0, 0.4620800000000001, 0.0, 0.0, 0.51984000000000008, 0.66576000000000013, 0.0, 0.0, 0.72352000000000016, 0.94098000000000015, 0.0]\n",
      "========================\n",
      "('iteration', 4)\n",
      "print oldpi\n",
      "[0, 0, 1, 0, 0, 0, 1, 0, 2, 1, 1, 0, 0, 2, 2, 0]\n",
      "-------------------\n",
      "print Vprev\n",
      "[0.0, 0.0, 0.35118080000000007, 0.0, 0.0, 0.0, 0.50597760000000014, 0.0, 0.39507840000000005, 0.61312240000000018, 0.76452960000000014, 0.0, 0.0, 0.83326400000000012, 0.95264030000000011, 0.0]\n",
      "========================\n",
      "('iteration', 5)\n",
      "print oldpi\n",
      "[0, 2, 1, 0, 1, 0, 1, 0, 2, 1, 1, 0, 0, 2, 2, 0]\n",
      "-------------------\n",
      "print Vprev\n",
      "[0.0, 0.26689740800000006, 0.38454297600000009, 0.26689740800000006, 0.30025958400000002, 0.0, 0.58104249600000013, 0.0, 0.46597302400000012, 0.7434434000000002, 0.78225325600000017, 0.0, 0.0, 0.86141333600000025, 0.96313114050000004, 0.0]\n",
      "========================\n",
      "('iteration', 6)\n",
      "print oldpi\n",
      "[1, 2, 1, 0, 1, 0, 1, 0, 2, 1, 1, 0, 0, 2, 2, 0]\n",
      "-------------------\n",
      "print Vprev\n",
      "[0.25355253760000007, 0.31760791552000001, 0.49230280448000008, 0.31760791552000001, 0.38266415872000015, 0.0, 0.59451247456000011, 0.0, 0.59354164448000013, 0.77325563196000024, 0.80260678978, 0.0, 0.0, 0.88444105670000006, 0.96581151766750006, 0.0]\n",
      "========================\n",
      "('iteration', 7)\n",
      "print oldpi\n",
      "[1, 2, 1, 0, 1, 0, 1, 0, 2, 1, 1, 0, 0, 2, 2, 0]\n",
      "-------------------\n",
      "print Vprev\n",
      "[0.34508500367360012, 0.40432288337920008, 0.51217498461440003, 0.40432288337920008, 0.48744474488320011, 0.0, 0.60998116023280002, 0.0, 0.62402737536800013, 0.80480930434670006, 0.80747603846350013, 0.0, 0.0, 0.89149793885000017, 0.96799973920751248, 0.0]\n",
      "========================\n",
      "('iteration', 8)\n",
      "print oldpi\n",
      "[1, 2, 1, 0, 1, 0, 1, 0, 2, 1, 1, 0, 0, 2, 2, 0]\n",
      "-------------------\n",
      "print Vprev\n",
      "[0.44165175538124812, 0.42766366222796803, 0.54040702961897613, 0.42766366222796803, 0.52056805604358403, 0.0, 0.61368178923226013, 0.0, 0.65796232206739602, 0.81353125783999269, 0.81213668571064601, 0.0, 0.0, 0.89682898990139603, 0.96867019887874628, 0.0]\n",
      "========================\n",
      "('iteration', 9)\n",
      "print oldpi\n",
      "[1, 2, 1, 0, 1, 0, 1, 0, 2, 1, 1, 0, 0, 2, 2, 0]\n",
      "-------------------\n",
      "print Vprev\n",
      "[0.47821668726599942, 0.45133739042207882, 0.54765425563983161, 0.45133739042207882, 0.54950533009536151, 0.0, 0.61722388114009097, 0.0, 0.66773772128253495, 0.82124943806397499, 0.81347482064264653, 0.0, 0.0, 0.89867357468327913, 0.96917665403599229, 0.0]\n",
      "========================\n",
      "('iteration', 10)\n",
      "print oldpi\n",
      "[1, 2, 1, 0, 1, 0, 1, 0, 2, 1, 1, 0, 0, 2, 2, 0]\n",
      "-------------------\n",
      "print Vprev\n",
      "[0.50593168825284218, 0.45909428637636951, 0.55484425384666414, 0.45909428637636951, 0.55968367453378598, 0.0, 0.61824086368841136, 0.0, 0.67635257928768044, 0.8237071082421844, 0.81459295368343176, 0.0, 0.0, 0.89996694327834326, 0.96935189009447076, 0.0]\n",
      "========================\n",
      "('iteration', 11)\n",
      "print oldpi\n",
      "[1, 2, 1, 0, 1, 0, 1, 0, 2, 1, 1, 0, 0, 2, 2, 0]\n",
      "-------------------\n",
      "print Vprev\n",
      "[0.51703706023545248, 0.46529559012921984, 0.55709097081470282, 0.46529559012921984, 0.56719790933934688, 0.0, 0.61909064479940812, 0.0, 0.67918735134476993, 0.82561470252379665, 0.81495961175480536, 0.0, 0.0, 0.90045647136624796, 0.96947476015890088, 0.0]\n",
      "========================\n",
      "('iteration', 12)\n",
      "print oldpi\n",
      "[1, 2, 1, 0, 1, 0, 1, 0, 2, 1, 1, 0, 0, 2, 2, 0]\n",
      "-------------------\n",
      "print Vprev\n",
      "[0.52439201288254744, 0.46759221888144997, 0.55891505217210191, 0.46759221888144997, 0.57006618840926304, 0.0, 0.61936930493365205, 0.0, 0.6813509753053234, 0.82629087973280813, 0.81523421446052535, 0.0, 0.0, 0.90077757924031887, 0.96952126533180216, 0.0]\n",
      "========================\n",
      "('iteration', 13)\n",
      "print oldpi\n",
      "[1, 2, 1, 0, 1, 0, 1, 0, 2, 1, 1, 0, 0, 2, 2, 0]\n",
      "-------------------\n",
      "print Vprev\n",
      "[0.52748880520861963, 0.46919670044453521, 0.55956319333705107, 0.46919670044453521, 0.57198302913092569, 0.0, 0.61957800298999932, 0.0, 0.68213735649581408, 0.82676655325039794, 0.81533379522678651, 0.0, 0.0, 0.90090766525461685, 0.96955177058027109, 0.0]\n",
      "========================\n",
      "('iteration', 14)\n",
      "print oldpi\n",
      "[1, 2, 1, 0, 1, 0, 1, 0, 2, 1, 1, 0, 0, 2, 2, 0]\n",
      "-------------------\n",
      "print Vprev\n",
      "[0.52939222517655316, 0.46984171347838966, 0.56002665535686114, 0.46984171347838966, 0.57276277870425663, 0.0, 0.61965368437235779, 0.0, 0.68268096823774038, 0.82694958500715576, 0.81540216819979383, 0.0, 0.0, 0.90098839639898243, 0.96956412875167053, 0.0]\n",
      "========================\n",
      "('iteration', 15)\n",
      "print oldpi\n",
      "[1, 2, 1, 0, 1, 0, 1, 0, 2, 1, 1, 0, 0, 2, 2, 0]\n",
      "-------------------\n",
      "print Vprev\n",
      "[0.53022693598745463, 0.47025522085166149, 0.56020672568388585, 0.47025522085166149, 0.57324999983758707, 0.0, 0.61970564783184334, 0.0, 0.68289414858234276, 0.82706907922479234, 0.81542894842694946, 0.0, 0.0, 0.90102284608485284, 0.96957179821038908, 0.0]\n",
      "========================\n",
      "('iteration', 16)\n",
      "print oldpi\n",
      "[1, 2, 1, 0, 1, 0, 1, 0, 2, 1, 1, 0, 0, 2, 2, 0]\n",
      "-------------------\n",
      "print Vprev\n",
      "[0.53071580477628211, 0.47043135750066106, 0.56032478431401667, 0.47043135750066106, 0.57345830290715127, 0.0, 0.61972600080448159, 0.0, 0.683031250195413, 0.82711805724037102, 0.81544612916625092, 0.0, 0.0, 0.90104329954431206, 0.96957507093054729, 0.0]\n",
      "========================\n",
      "('iteration', 17)\n",
      "print oldpi\n",
      "[1, 2, 1, 0, 1, 0, 1, 0, 2, 1, 1, 0, 0, 2, 2, 0]\n",
      "-------------------\n",
      "print Vprev\n",
      "[0.53093729062574457, 0.4705378150412155, 0.56037371853653162, 0.4705378150412155, 0.57358228892469321, 0.0, 0.61973905816635078, 0.0, 0.68308826227886132, 0.82714825869303521, 0.81545326934505113, 0.0, 0.0, 0.90105238280176081, 0.96957701400919594, 0.0]\n",
      "========================\n",
      "('iteration', 18)\n",
      "print oldpi\n",
      "[1, 2, 1, 0, 1, 0, 1, 0, 2, 1, 1, 0, 0, 2, 2, 0]\n",
      "-------------------\n",
      "print Vprev\n",
      "[0.53106267462112811, 0.47058511851667945, 0.56040386906425765, 0.47058511851667945, 0.57363739677978043, 0.0, 0.61974448470223886, 0.0, 0.68312299405455257, 0.82716125643361005, 0.81545761522282723, 0.0, 0.0, 0.90105759158899446, 0.96957787691865349, 0.0]\n",
      "========================\n",
      "('iteration', 19)\n",
      "print oldpi\n",
      "[1, 2, 1, 0, 1, 0, 1, 0, 2, 1, 1, 0, 0, 2, 2, 0]\n",
      "-------------------\n",
      "print Vprev\n",
      "[0.53112096190072489, 0.47061252674792037, 0.56041698089187064, 0.47061252674792037, 0.57366902817553911, 0.0, 0.61974778756934867, 0.0, 0.68313810758362281, 0.82716892748898685, 0.81545950581936955, 0.0, 0.0, 0.90105997702032403, 0.96957837175344075, 0.0]\n",
      "\u001b[0m\n",
      "print pi\n",
      "[[1 2 1 0]\n",
      " [1 0 1 0]\n",
      " [2 1 1 0]\n",
      " [0 2 2 0]]\n",
      "-------------------\n",
      "print V\n",
      "[[ 0.478  0.451  0.548  0.451]\n",
      " [ 0.55   0.     0.617  0.   ]\n",
      " [ 0.668  0.821  0.813  0.   ]\n",
      " [ 0.     0.899  0.969  0.   ]]\n"
     ]
    }
   ],
   "source": [
    "def value_iteration(mdp, gamma, nIt):\n",
    "    \"\"\"\n",
    "    Inputs:\n",
    "        mdp: MDP\n",
    "        gamma: discount factor\n",
    "        nIt: number of iterations, corresponding to n above\n",
    "    Outputs:\n",
    "        (value_functions, policies)\n",
    "        \n",
    "    len(value_functions) == nIt+1 and len(policies) == n\n",
    "    \"\"\"\n",
    "    print(\"Iteration | max|V-Vprev| | # chg actions | V[0]\")\n",
    "    print(\"----------+--------------+---------------+---------\")\n",
    "    Vs = [np.zeros(mdp.nS)] # list of value functions contains the initial value function, which is zero\n",
    "    pis = []\n",
    "    \n",
    "    #print('print pis')\n",
    "    #print pis\n",
    "    #print('-------------------')\n",
    "    #print('print Vs')\n",
    "    #print Vs\n",
    "    for it in range(nIt):\n",
    "        Vprev = Vs[-1]\n",
    "        oldpi = pis[-1] if len(pis) > 0 else None\n",
    "        V = []\n",
    "        pi = []\n",
    "        print('========================')\n",
    "        print('iteration',it)\n",
    "        print('print oldpi')\n",
    "        print oldpi\n",
    "        print('-------------------')\n",
    "        print('print Vprev')\n",
    "        print Vprev\n",
    "        for s in range(0, 16, 1):\n",
    "          nNextState = len(mdp.P[s][0])\n",
    "                 \n",
    "          l = []\n",
    "          for a in range(0,4,1):\n",
    "             ssum = 0\n",
    "             for ns in range(0,nNextState,1):         \n",
    "                 #print('Probability = mdp.P[s][a][ns][0]',mdp.P[s][a][ns][0])\n",
    "                 #print('reward = mdp.P[s][a][ns][2]',mdp.P[s][a][ns][2])         \n",
    "                  ssum = ssum + mdp.P[s][a][ns][0]*(mdp.P[s][a][ns][2]+gamma*Vprev[mdp.P[s][a][ns][1]])\n",
    "                  #print('s',s,'a',a,'ns',ns,'sum',sum)\n",
    "             l.append(ssum)\n",
    "             #print('l',l)\n",
    "          V.append(max(l))\n",
    "          pi.append(np.argmax(l))\n",
    "        \n",
    "        #print pi\n",
    "        #max_diff = np.abs(V - Vprev).max()\n",
    "        max_diff = np.abs(np.array(V) - np.array(Vprev)).max()\n",
    "        #nChgActions=\"N/A\" if oldpi is None else (pi != oldpi).sum()\n",
    "        nChgActions=\"N/A\" if oldpi is None else (np.array(pi) != np.array(oldpi)).sum()\n",
    "        print(\"%4i      | %6.5f      | %4s          | %5.3f\"%(it, max_diff, nChgActions, V[0]))\n",
    "        Vs.append(V)\n",
    "        pis.append(pi)\n",
    "    return Vs, pis\n",
    "\n",
    "GAMMA=0.95 # we'll be using this same value in subsequent problems\n",
    "begin_grading()\n",
    "Vs_VI, pis_VI = value_iteration(mdp, gamma=GAMMA, nIt=20)\n",
    "end_grading()\n",
    "print('print pi')\n",
    "print np.array(pi).reshape(4,4)\n",
    "print('-------------------')\n",
    "print('print V')\n",
    "print np.array(V).reshape(4,4)"
   ]
  },
  {
   "cell_type": "markdown",
   "metadata": {
    "deletable": true,
    "editable": true
   },
   "source": [
    "Below, we've illustrated the progress of value iteration. Your optimal actions are shown by arrows.\n",
    "At the bottom, the value of the different states are plotted."
   ]
  },
  {
   "cell_type": "code",
   "execution_count": 107,
   "metadata": {
    "collapsed": false,
    "deletable": true,
    "editable": true,
    "scrolled": false
   },
   "outputs": [
    {
     "name": "stdout",
     "output_type": "stream",
     "text": [
      "[ 0.  0.  0.  0.  0.  0.  0.  0.  0.  0.  0.  0.  0.  0.  0.  0.]\n",
      "[[0 0 0 0]\n",
      " [0 0 0 0]\n",
      " [0 0 0 0]\n",
      " [0 0 2 0]]\n",
      "-------\n",
      "[0.0, 0.0, 0.0, 0.0, 0.0, 0.0, 0.0, 0.0, 0.0, 0.0, 0.0, 0.0, 0.0, 0.0, 0.80000000000000004, 0.0]\n",
      "[[0 0 0 0]\n",
      " [0 0 0 0]\n",
      " [0 0 1 0]\n",
      " [0 2 2 0]]\n",
      "-------\n",
      "[0.0, 0.0, 0.0, 0.0, 0.0, 0.0, 0.0, 0.0, 0.0, 0.0, 0.6080000000000001, 0.0, 0.0, 0.6080000000000001, 0.87600000000000011, 0.0]\n",
      "[[0 0 0 0]\n",
      " [0 0 1 0]\n",
      " [0 1 1 0]\n",
      " [0 2 2 0]]\n",
      "-------\n",
      "[0.0, 0.0, 0.0, 0.0, 0.0, 0.0, 0.4620800000000001, 0.0, 0.0, 0.51984000000000008, 0.66576000000000013, 0.0, 0.0, 0.72352000000000016, 0.94098000000000015, 0.0]\n",
      "[[0 0 1 0]\n",
      " [0 0 1 0]\n",
      " [2 1 1 0]\n",
      " [0 2 2 0]]\n",
      "-------\n",
      "[0.0, 0.0, 0.35118080000000007, 0.0, 0.0, 0.0, 0.50597760000000014, 0.0, 0.39507840000000005, 0.61312240000000018, 0.76452960000000014, 0.0, 0.0, 0.83326400000000012, 0.95264030000000011, 0.0]\n",
      "[[0 2 1 0]\n",
      " [1 0 1 0]\n",
      " [2 1 1 0]\n",
      " [0 2 2 0]]\n",
      "-------\n",
      "[0.0, 0.26689740800000006, 0.38454297600000009, 0.26689740800000006, 0.30025958400000002, 0.0, 0.58104249600000013, 0.0, 0.46597302400000012, 0.7434434000000002, 0.78225325600000017, 0.0, 0.0, 0.86141333600000025, 0.96313114050000004, 0.0]\n",
      "[[1 2 1 0]\n",
      " [1 0 1 0]\n",
      " [2 1 1 0]\n",
      " [0 2 2 0]]\n",
      "-------\n",
      "[0.25355253760000007, 0.31760791552000001, 0.49230280448000008, 0.31760791552000001, 0.38266415872000015, 0.0, 0.59451247456000011, 0.0, 0.59354164448000013, 0.77325563196000024, 0.80260678978, 0.0, 0.0, 0.88444105670000006, 0.96581151766750006, 0.0]\n",
      "[[1 2 1 0]\n",
      " [1 0 1 0]\n",
      " [2 1 1 0]\n",
      " [0 2 2 0]]\n",
      "-------\n",
      "[0.34508500367360012, 0.40432288337920008, 0.51217498461440003, 0.40432288337920008, 0.48744474488320011, 0.0, 0.60998116023280002, 0.0, 0.62402737536800013, 0.80480930434670006, 0.80747603846350013, 0.0, 0.0, 0.89149793885000017, 0.96799973920751248, 0.0]\n",
      "[[1 2 1 0]\n",
      " [1 0 1 0]\n",
      " [2 1 1 0]\n",
      " [0 2 2 0]]\n",
      "-------\n",
      "[0.44165175538124812, 0.42766366222796803, 0.54040702961897613, 0.42766366222796803, 0.52056805604358403, 0.0, 0.61368178923226013, 0.0, 0.65796232206739602, 0.81353125783999269, 0.81213668571064601, 0.0, 0.0, 0.89682898990139603, 0.96867019887874628, 0.0]\n",
      "[[1 2 1 0]\n",
      " [1 0 1 0]\n",
      " [2 1 1 0]\n",
      " [0 2 2 0]]\n",
      "-------\n",
      "[0.47821668726599942, 0.45133739042207882, 0.54765425563983161, 0.45133739042207882, 0.54950533009536151, 0.0, 0.61722388114009097, 0.0, 0.66773772128253495, 0.82124943806397499, 0.81347482064264653, 0.0, 0.0, 0.89867357468327913, 0.96917665403599229, 0.0]\n",
      "[[1 2 1 0]\n",
      " [1 0 1 0]\n",
      " [2 1 1 0]\n",
      " [0 2 2 0]]\n",
      "-------\n"
     ]
    },
    {
     "data": {
      "image/png": "[encoded data removed]",
      "text/plain": [
       "<matplotlib.figure.Figure at 0x7fcc7d694fd0>"
      ]
     },
     "metadata": {},
     "output_type": "display_data"
    },
    {
     "data": {
      "image/png": "[encoded data removed]",
      "text/plain": [
       "<matplotlib.figure.Figure at 0x7fcc7d237f90>"
      ]
     },
     "metadata": {},
     "output_type": "display_data"
    },
    {
     "data": {
      "image/png": "[encoded data removed]",
      "text/plain": [
       "<matplotlib.figure.Figure at 0x7fcc7da19f10>"
      ]
     },
     "metadata": {},
     "output_type": "display_data"
    },
    {
     "data": {
      "image/png": "[encoded data removed]",
      "text/plain": [
       "<matplotlib.figure.Figure at 0x7fcc7d595450>"
      ]
     },
     "metadata": {},
     "output_type": "display_data"
    },
    {
     "data": {
      "image/png": "[encoded data removed]",
      "text/plain": [
       "<matplotlib.figure.Figure at 0x7fcc7d821310>"
      ]
     },
     "metadata": {},
     "output_type": "display_data"
    },
    {
     "data": {
      "image/png": "[encoded data removed]",
      "text/plain": [
       "<matplotlib.figure.Figure at 0x7fcc7d9860d0>"
      ]
     },
     "metadata": {},
     "output_type": "display_data"
    },
    {
     "data": {
      "image/png": "[encoded data removed]",
      "text/plain": [
       "<matplotlib.figure.Figure at 0x7fcc7cfefd90>"
      ]
     },
     "metadata": {},
     "output_type": "display_data"
    },
    {
     "data": {
      "image/png": "[encoded data removed]",
      "text/plain": [
       "<matplotlib.figure.Figure at 0x7fcc7db17c50>"
      ]
     },
     "metadata": {},
     "output_type": "display_data"
    },
    {
     "data": {
      "image/png": "[encoded data removed]",
      "text/plain": [
       "<matplotlib.figure.Figure at 0x7fcc7dc9cc10>"
      ]
     },
     "metadata": {},
     "output_type": "display_data"
    },
    {
     "data": {
      "image/png": "[encoded data removed]",
      "text/plain": [
       "<matplotlib.figure.Figure at 0x7fcc7d6b7990>"
      ]
     },
     "metadata": {},
     "output_type": "display_data"
    },
    {
     "data": {
      "image/png": "[encoded data removed]",
      "text/plain": [
       "<matplotlib.figure.Figure at 0x7fcc7d078310>"
      ]
     },
     "metadata": {},
     "output_type": "display_data"
    }
   ],
   "source": [
    "import matplotlib.pyplot as plt\n",
    "%matplotlib inline\n",
    "for (V, pi) in zip(Vs_VI[:10], pis_VI[:10]):\n",
    "    plt.figure(figsize=(3,3))\n",
    "    plt.imshow(np.array(V).reshape(4,4), cmap='gray', interpolation='none', clim=(0,1))  \n",
    "    print V\n",
    "    print np.array(pi).reshape(4,4)\n",
    "    print(\"-------\")\n",
    "    ax = plt.gca()\n",
    "    ax.set_xticks(np.arange(4)-.5)\n",
    "    ax.set_yticks(np.arange(4)-.5)\n",
    "    ax.set_xticklabels([])\n",
    "    ax.set_yticklabels([])\n",
    "    Y, X = np.mgrid[0:4, 0:4]\n",
    "    a2uv = {0: (-1, 0), 1:(0, -1), 2:(1,0), 3:(-1, 0)}\n",
    "    Pi = np.array(pi).reshape(4,4)\n",
    "    for y in range(4):\n",
    "        for x in range(4):\n",
    "            a = Pi[y, x]\n",
    "            u, v = a2uv[a]\n",
    "            plt.arrow(x, y,u*.3, -v*.3, color='m', head_width=0.1, head_length=0.1) \n",
    "            plt.text(x, y, str(env.desc[y,x].item().decode()),\n",
    "                     color='r', size=12,  verticalalignment='center',\n",
    "                     horizontalalignment='center', fontweight='bold')\n",
    "    plt.grid(color='b', lw=2, ls='-')\n",
    "plt.figure()\n",
    "plt.plot(Vs_VI)\n",
    "plt.title(\"Values of different states\");"
   ]
  },
  {
   "cell_type": "markdown",
   "metadata": {
    "deletable": true,
    "editable": true
   },
   "source": [
    "## Problem 2: construct an MDP where value iteration takes a long time to converge\n",
    "\n",
    "When we ran value iteration on the frozen lake problem, the last iteration where an action changed was iteration 6--i.e., value iteration computed the optimal policy at iteration 6.\n",
    "Are there any guarantees regarding how many iterations it'll take value iteration to compute the optimal policy?\n",
    "There are no such guarantees without additional assumptions--we can construct the MDP in such a way that the greedy policy will change after arbitrarily many iterations.\n",
    "\n",
    "Your task: define an MDP with at most 3 states and 2 actions, such that when you run value iteration, the optimal action changes at iteration >= 50. Use discount=0.95. (However, note that the discount doesn't matter here--you can construct an appropriate MDP with any discount.)"
   ]
  },
  {
   "cell_type": "code",
   "execution_count": 6,
   "metadata": {
    "collapsed": false,
    "deletable": true,
    "editable": true,
    "scrolled": false
   },
   "outputs": [
    {
     "name": "stdout",
     "output_type": "stream",
     "text": [
      "\u001b[43m\n",
      "Iteration | max|V-Vprev| | # chg actions | V[0]\n",
      "----------+--------------+---------------+---------\n",
      "   0      | 1.00000      |  N/A          | 1.000\n",
      "   1      | 0.05441      |    0          | 1.000\n",
      "   2      | 0.05169      |    0          | 1.000\n",
      "   3      | 0.04910      |    0          | 1.000\n",
      "   4      | 0.04665      |    0          | 1.000\n",
      "   5      | 0.04431      |    0          | 1.000\n",
      "   6      | 0.04210      |    0          | 1.000\n",
      "   7      | 0.03999      |    0          | 1.000\n",
      "   8      | 0.03799      |    0          | 1.000\n",
      "   9      | 0.03609      |    0          | 1.000\n",
      "  10      | 0.03429      |    0          | 1.000\n",
      "  11      | 0.03258      |    0          | 1.000\n",
      "  12      | 0.03095      |    0          | 1.000\n",
      "  13      | 0.02940      |    0          | 1.000\n",
      "  14      | 0.02793      |    0          | 1.000\n",
      "  15      | 0.02653      |    0          | 1.000\n",
      "  16      | 0.02521      |    0          | 1.000\n",
      "  17      | 0.02395      |    0          | 1.000\n",
      "  18      | 0.02275      |    0          | 1.000\n",
      "  19      | 0.02161      |    0          | 1.000\n",
      "  20      | 0.02053      |    0          | 1.000\n",
      "  21      | 0.01950      |    0          | 1.000\n",
      "  22      | 0.01853      |    0          | 1.000\n",
      "  23      | 0.01760      |    0          | 1.000\n",
      "  24      | 0.01672      |    0          | 1.000\n",
      "  25      | 0.01589      |    0          | 1.000\n",
      "  26      | 0.01509      |    0          | 1.000\n",
      "  27      | 0.01434      |    0          | 1.000\n",
      "  28      | 0.01362      |    0          | 1.000\n",
      "  29      | 0.01294      |    0          | 1.000\n",
      "  30      | 0.01229      |    0          | 1.000\n",
      "  31      | 0.01168      |    0          | 1.000\n",
      "  32      | 0.01109      |    0          | 1.000\n",
      "  33      | 0.01054      |    0          | 1.000\n",
      "  34      | 0.01001      |    0          | 1.000\n",
      "  35      | 0.00951      |    0          | 1.000\n",
      "  36      | 0.00904      |    0          | 1.000\n",
      "  37      | 0.00858      |    0          | 1.000\n",
      "  38      | 0.00816      |    0          | 1.000\n",
      "  39      | 0.00775      |    0          | 1.000\n",
      "  40      | 0.00736      |    0          | 1.000\n",
      "  41      | 0.00699      |    0          | 1.000\n",
      "  42      | 0.00664      |    0          | 1.000\n",
      "  43      | 0.00631      |    0          | 1.000\n",
      "  44      | 0.00599      |    0          | 1.000\n",
      "  45      | 0.00569      |    0          | 1.000\n",
      "  46      | 0.00541      |    0          | 1.000\n",
      "  47      | 0.00514      |    0          | 1.000\n",
      "  48      | 0.00488      |    0          | 1.000\n",
      "  49      | 0.00464      |    0          | 1.000\n",
      "  50      | 0.00441      |    1          | 1.004\n",
      "\u001b[0m\n"
     ]
    }
   ],
   "source": [
    "chg_iter = 50\n",
    "# YOUR CODE HERE\n",
    "# Your code will need to define an MDP (mymdp)\n",
    "# like the frozen lake MDP defined above\n",
    "begin_grading()\n",
    "Vs, pis = value_iteration(mymdp, gamma=GAMMA, nIt=chg_iter+1)\n",
    "end_grading()"
   ]
  },
  {
   "cell_type": "markdown",
   "metadata": {
    "deletable": true,
    "editable": true
   },
   "source": [
    "## Problem 3: Policy Iteration\n",
    "\n",
    "The next task is to implement exact policy iteration (PI), which has the following pseudocode:\n",
    "\n",
    "---\n",
    "Initialize $\\pi_0$\n",
    "\n",
    "For $n=0, 1, 2, \\dots$\n",
    "- Compute the state-value function $V^{\\pi_{n}}$\n",
    "- Using $V^{\\pi_{n}}$, compute the state-action-value function $Q^{\\pi_{n}}$\n",
    "- Compute new policy $\\pi_{n+1}(s) = \\operatorname*{argmax}_a Q^{\\pi_{n}}(s,a)$\n",
    "---\n",
    "\n",
    "Below, you'll implement the first and second steps of the loop.\n",
    "\n",
    "### Problem 3a: state value function\n",
    "\n",
    "You'll write a function called `compute_vpi` that computes the state-value function $V^{\\pi}$ for an arbitrary policy $\\pi$.\n",
    "Recall that $V^{\\pi}$ satisfies the following linear equation:\n",
    "$$V^{\\pi}(s) = \\sum_{s'} P(s,\\pi(s),s')[ R(s,\\pi(s),s') + \\gamma V^{\\pi}(s')]$$\n",
    "You'll have to solve a linear system in your code."
   ]
  },
  {
   "cell_type": "code",
   "execution_count": 50,
   "metadata": {
    "collapsed": false,
    "deletable": true,
    "editable": true,
    "scrolled": false
   },
   "outputs": [
    {
     "name": "stdout",
     "output_type": "stream",
     "text": [
      "('pi', [1, 2, 1, 0, 1, 0, 1, 0, 2, 1, 1, 0, 0, 2, 2, 0])\n",
      "('pi(1)', 2)\n",
      "('pis_VI[0][15]', 2)\n",
      "('mdp.P[1][pi[1]]', [(0.1, 5, 0.0), (0.8, 2, 0.0), (0.1, 1, 0.0)])\n"
     ]
    },
    {
     "data": {
      "text/plain": [
       "array([ 0.531,  0.471,  0.56 ,  0.471,  0.574,  0.   ,  0.62 , -0.   ,\n",
       "        0.683,  0.827,  0.815, -0.   , -0.   ,  0.901,  0.97 , -0.   ])"
      ]
     },
     "execution_count": 50,
     "metadata": {},
     "output_type": "execute_result"
    }
   ],
   "source": [
    "print('pi',pi)\n",
    "print('pi(1)',pi[1])\n",
    "print('pis_VI[0][15]',pis_VI[0][14])\n",
    "print('mdp.P[1][pi[1]]',mdp.P[1][pi[1]])\n",
    "a = np.arange(25).reshape(5,5)\n",
    "b = np.arange(5)\n",
    "#print(a)\n",
    "#print(b)\n",
    "#print(np.einsum('ii', a))\n",
    "#print(np.einsum('ii->i', a))\n",
    "#print(np.einsum('ij,j', a, b))\n",
    "def compute_vpi(pi, mdp, gamma):\n",
    "    # YOUR CODE HERE\n",
    "    P = []\n",
    "    R = []\n",
    "    for s in range(mdp.nS):\n",
    "       prob,nexts,r = zip(*mdp.P[s][pi[s]]) \n",
    "       prob,nexts,r = list(prob), list(nexts), list(r)\n",
    "       ps = np.zeros(mdp.nS) \n",
    "       rs = np.zeros(mdp.nS)\n",
    "       ps[nexts] = prob\n",
    "       rs[nexts] = r\n",
    "       P += [ps]\n",
    "       R += [rs]\n",
    "    \n",
    "    P = np.array(P)\n",
    "    R = np.array(R)\n",
    "       \n",
    "    # Creating the linear system\n",
    "    b = - np.einsum('xy,xy->x', P,R)\n",
    "    A = P*gamma - np.identity(mdp.nS)\n",
    "    V = np.linalg.solve(A,b)    \n",
    "    \n",
    "    return V\n",
    "\n",
    "compute_vpi(pi, mdp, 0.95)                                "
   ]
  },
  {
   "cell_type": "markdown",
   "metadata": {
    "deletable": true,
    "editable": true
   },
   "source": [
    "Now let's compute the value of an arbitrarily-chosen policy. \n"
   ]
  },
  {
   "cell_type": "code",
   "execution_count": 51,
   "metadata": {
    "collapsed": false,
    "deletable": true,
    "editable": true,
    "scrolled": true
   },
   "outputs": [
    {
     "name": "stdout",
     "output_type": "stream",
     "text": [
      "\u001b[43m\n",
      "[ 0.016  0.024  0.232  0.024  0.017  0.     0.299 -0.     0.02   0.188\n",
      "  0.393 -0.     0.     0.196  0.494 -0.   ]\n",
      "\u001b[0m\n"
     ]
    }
   ],
   "source": [
    "begin_grading()\n",
    "print(compute_vpi(np.ones(16), mdp, gamma=GAMMA))\n",
    "end_grading()"
   ]
  },
  {
   "cell_type": "markdown",
   "metadata": {
    "deletable": true,
    "editable": true
   },
   "source": [
    "As a sanity check, if we run `compute_vpi` on the solution from our previous value iteration run, we should get approximately (but not exactly) the same values produced by value iteration."
   ]
  },
  {
   "cell_type": "code",
   "execution_count": 111,
   "metadata": {
    "collapsed": false,
    "deletable": true,
    "editable": true
   },
   "outputs": [
    {
     "name": "stdout",
     "output_type": "stream",
     "text": [
      "('From compute_vpi\\n', array([ 0.531,  0.471,  0.56 ,  0.471,  0.574,  0.   ,  0.62 , -0.   ,\n",
      "        0.683,  0.827,  0.815, -0.   , -0.   ,  0.901,  0.97 , -0.   ]))\n",
      "------------------\n",
      "('From value iteration', [0.53022693598745463, 0.47025522085166149, 0.56020672568388585, 0.47025522085166149, 0.57324999983758707, 0.0, 0.61970564783184334, 0.0, 0.68289414858234276, 0.82706907922479234, 0.81542894842694946, 0.0, 0.0, 0.90102284608485284, 0.96957179821038908, 0.0])\n",
      "------------------\n",
      "('Difference', array([  9.580e-04,   3.839e-04,   2.254e-04,   3.839e-04,   4.495e-04,\n",
      "         0.000e+00,   4.522e-05,  -0.000e+00,   2.612e-04,   1.071e-04,\n",
      "         3.272e-05,  -0.000e+00,  -0.000e+00,   3.977e-05,   7.051e-06,\n",
      "        -0.000e+00]))\n"
     ]
    }
   ],
   "source": [
    "Vpi=compute_vpi(pis_VI[15], mdp, gamma=GAMMA)\n",
    "V_vi = Vs_VI[15]\n",
    "print(\"From compute_vpi\", Vpi)\n",
    "print(\"------------------\")\n",
    "print(\"From value iteration\", V_vi)\n",
    "print(\"------------------\")\n",
    "print(\"Difference\", Vpi - V_vi)"
   ]
  },
  {
   "cell_type": "markdown",
   "metadata": {
    "deletable": true,
    "editable": true
   },
   "source": [
    "### Problem 3b: state-action value function\n",
    "\n",
    "Next, you'll write a function to compute the state-action value function $Q^{\\pi}$, defined as follows\n",
    "\n",
    "$$Q^{\\pi}(s, a) = \\sum_{s'} P(s,a,s')[ R(s,a,s') + \\gamma V^{\\pi}(s')]$$\n"
   ]
  },
  {
   "cell_type": "code",
   "execution_count": 96,
   "metadata": {
    "collapsed": false,
    "deletable": true,
    "editable": true,
    "nbgrader": {
     "grade": false,
     "grade_id": "compute_qpi",
     "locked": false,
     "solution": true
    }
   },
   "outputs": [
    {
     "name": "stdout",
     "output_type": "stream",
     "text": [
      "\u001b[43m\n",
      "('Qpi:\\n', array([[  0.38 ,   3.135,   1.14 ,   0.095],\n",
      "       [  0.57 ,   3.99 ,   2.09 ,   0.95 ],\n",
      "       [  1.52 ,   4.94 ,   3.04 ,   1.9  ],\n",
      "       [  2.47 ,   5.795,   3.23 ,   2.755],\n",
      "       [  3.8  ,   6.935,   4.56 ,   0.855],\n",
      "       [  4.75 ,   4.75 ,   4.75 ,   4.75 ],\n",
      "       [  4.94 ,   8.74 ,   6.46 ,   2.66 ],\n",
      "       [  6.65 ,   6.65 ,   6.65 ,   6.65 ],\n",
      "       [  7.6  ,  10.735,   8.36 ,   4.655],\n",
      "       [  7.79 ,  11.59 ,   9.31 ,   5.51 ],\n",
      "       [  8.74 ,  12.54 ,  10.26 ,   6.46 ],\n",
      "       [ 10.45 ,  10.45 ,  10.45 ,  10.45 ],\n",
      "       [ 11.4  ,  11.4  ,  11.4  ,  11.4  ],\n",
      "       [ 11.21 ,  12.35 ,  12.73 ,   9.31 ],\n",
      "       [ 12.16 ,  13.4  ,  14.48 ,  10.36 ],\n",
      "       [ 14.25 ,  14.25 ,  14.25 ,  14.25 ]]))\n",
      "\u001b[0m\n"
     ]
    }
   ],
   "source": [
    "def compute_qpi(vpi, mdp,  gamma):\n",
    "    Qpi = np.zeros((mdp.nS, mdp.nA))\n",
    "    # Make the probability and reward matrices.\n",
    "    for s in range(mdp.nS):\n",
    "        for a in range(mdp.nA):\n",
    "            prob, sprime, r = zip(*mdp.P[s][a])\n",
    "            prob, sprime, r = np.array(prob), list(sprime), np.array(r)\n",
    "            Qpi[s,a] = np.dot(prob,(r + gamma*vpi[sprime]))\n",
    "            \n",
    "\n",
    "    return Qpi\n",
    "\n",
    "\n",
    "begin_grading()\n",
    "Qpi = compute_qpi(np.arange(mdp.nS), mdp, gamma=0.95)\n",
    "print(\"Qpi:\\n\", Qpi)\n",
    "end_grading()\n"
   ]
  },
  {
   "cell_type": "markdown",
   "metadata": {
    "deletable": true,
    "editable": true
   },
   "source": [
    "Now we're ready to run policy iteration!"
   ]
  },
  {
   "cell_type": "code",
   "execution_count": 99,
   "metadata": {
    "collapsed": false,
    "deletable": true,
    "editable": true,
    "nbgrader": {
     "grade": false,
     "locked": false,
     "solution": false
    }
   },
   "outputs": [
    {
     "name": "stdout",
     "output_type": "stream",
     "text": [
      "Iteration | # chg actions | V[0]\n",
      "----------+---------------+---------\n",
      "   0      |      1        | 0.00000\n",
      "   1      |      7        | -0.00000\n",
      "   2      |      4        | 0.01352\n",
      "   3      |      1        | 0.45546\n",
      "   4      |      0        | 0.53118\n",
      "   5      |      0        | 0.53118\n",
      "   6      |      0        | 0.53118\n",
      "   7      |      0        | 0.53118\n",
      "   8      |      0        | 0.53118\n",
      "   9      |      0        | 0.53118\n",
      "  10      |      0        | 0.53118\n",
      "  11      |      0        | 0.53118\n",
      "  12      |      0        | 0.53118\n",
      "  13      |      0        | 0.53118\n",
      "  14      |      0        | 0.53118\n",
      "  15      |      0        | 0.53118\n",
      "  16      |      0        | 0.53118\n",
      "  17      |      0        | 0.53118\n",
      "  18      |      0        | 0.53118\n",
      "  19      |      0        | 0.53118\n"
     ]
    },
    {
     "data": {
      "image/png": "[encoded data removed]",
      "text/plain": [
       "<matplotlib.figure.Figure at 0x7fcc7d06acd0>"
      ]
     },
     "metadata": {},
     "output_type": "display_data"
    }
   ],
   "source": [
    "def policy_iteration(mdp, gamma, nIt):\n",
    "    Vs = []\n",
    "    pis = []\n",
    "    pi_prev = np.zeros(mdp.nS,dtype='int')\n",
    "    pis.append(pi_prev)\n",
    "    print(\"Iteration | # chg actions | V[0]\")\n",
    "    print(\"----------+---------------+---------\")\n",
    "    for it in range(nIt):        \n",
    "        vpi = compute_vpi(pi_prev, mdp, gamma)\n",
    "        qpi = compute_qpi(vpi, mdp, gamma)\n",
    "        pi = qpi.argmax(axis=1)\n",
    "        print(\"%4i      | %6i        | %6.5f\"%(it, (pi != pi_prev).sum(), vpi[0]))\n",
    "        Vs.append(vpi)\n",
    "        pis.append(pi)\n",
    "        pi_prev = pi\n",
    "    return Vs, pis\n",
    "Vs_PI, pis_PI = policy_iteration(mdp, gamma=0.95, nIt=20)\n",
    "plt.plot(Vs_PI);"
   ]
  },
  {
   "cell_type": "markdown",
   "metadata": {
    "deletable": true,
    "editable": true
   },
   "source": [
    "Now we can compare the convergence of value iteration and policy iteration on several states.\n",
    "For fun, you can try adding modified policy iteration."
   ]
  },
  {
   "cell_type": "code",
   "execution_count": 101,
   "metadata": {
    "collapsed": false,
    "deletable": true,
    "editable": true,
    "scrolled": false
   },
   "outputs": [
    {
     "data": {
      "image/png": "[encoded data removed]",
      "text/plain": [
       "<matplotlib.figure.Figure at 0x7fcc7d59c210>"
      ]
     },
     "metadata": {},
     "output_type": "display_data"
    },
    {
     "data": {
      "image/png": "[encoded data removed]",
      "text/plain": [
       "<matplotlib.figure.Figure at 0x7fcc7dcfec10>"
      ]
     },
     "metadata": {},
     "output_type": "display_data"
    },
    {
     "data": {
      "image/png": "[encoded data removed]",
      "text/plain": [
       "<matplotlib.figure.Figure at 0x7fcc7dadef10>"
      ]
     },
     "metadata": {},
     "output_type": "display_data"
    },
    {
     "data": {
      "image/png": "[encoded data removed]",
      "text/plain": [
       "<matplotlib.figure.Figure at 0x7fcc7d89ef10>"
      ]
     },
     "metadata": {},
     "output_type": "display_data"
    },
    {
     "data": {
      "image/png": "[encoded data removed]",
      "text/plain": [
       "<matplotlib.figure.Figure at 0x7fcc7d429b90>"
      ]
     },
     "metadata": {},
     "output_type": "display_data"
    }
   ],
   "source": [
    "for s in range(5):\n",
    "    plt.figure()\n",
    "    plt.plot(np.array(Vs_VI)[:,s])\n",
    "    plt.plot(np.array(Vs_PI)[:,s])\n",
    "    plt.ylabel(\"value of state %i\"%s)\n",
    "    plt.xlabel(\"iteration\")\n",
    "    plt.legend([\"value iteration\", \"policy iteration\"], loc='best')"
   ]
  },
  {
   "cell_type": "code",
   "execution_count": null,
   "metadata": {
    "collapsed": true
   },
   "outputs": [],
   "source": []
  }
 ],
 "metadata": {
  "anaconda-cloud": {},
  "celltoolbar": "Create Assignment",
  "kernelspec": {
   "display_name": "Python [Root]",
   "language": "python",
   "name": "Python [Root]"
  },
  "language_info": {
   "codemirror_mode": {
    "name": "ipython",
    "version": 2
   },
   "file_extension": ".py",
   "mimetype": "text/x-python",
   "name": "python",
   "nbconvert_exporter": "python",
   "pygments_lexer": "ipython2",
   "version": "2.7.12"
  }
 },
 "nbformat": 4,
 "nbformat_minor": 0
}
